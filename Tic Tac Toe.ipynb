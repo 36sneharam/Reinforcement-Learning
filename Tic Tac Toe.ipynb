{
 "cells": [
  {
   "cell_type": "markdown",
   "metadata": {},
   "source": [
    "# Implementing a Tic Tac Toe RL Algorithm"
   ]
  },
  {
   "cell_type": "code",
   "execution_count": 1420,
   "metadata": {},
   "outputs": [],
   "source": [
    "import numpy as np\n",
    "import pandas as pd\n",
    "import random\n",
    "import matplotlib.pyplot as plt\n",
    "import time\n"
   ]
  },
  {
   "cell_type": "markdown",
   "metadata": {},
   "source": [
    "## Creating Tic Tac Toe Environment"
   ]
  },
  {
   "cell_type": "code",
   "execution_count": 327,
   "metadata": {},
   "outputs": [],
   "source": [
    "class tictactoe:\n",
    "    def __init__(self, dim):\n",
    "        self.dim = dim\n",
    "        convert = {0: ' ', 1: 'X', 2: 'O'} #0: empty space, 1: computer, 2: human \n",
    "        self.initboardstate()\n",
    "        return \n",
    "    \n",
    "    #Dimension \n",
    "    def adddim(self, dim):\n",
    "        self.dim = dim \n",
    "    def getdim(self):\n",
    "        return self.dim\n",
    "    \n",
    "    #Board State \n",
    "    def initboardstate(self):\n",
    "        self.board = np.zeros((self.dim, self.dim))\n",
    "        self.board[0,0] = 1\n",
    "    def getboardstate(self):\n",
    "        return self.board\n",
    "    def addboardstate(self, state):\n",
    "        self.board = (state)\n",
    "        #Make sure dimension of board is self consistent \n",
    "        self.adddim(self.getboardstate().shape[0])\n",
    "        \n",
    "    #Visualizing the board   \n",
    "    def drawboard(self):\n",
    "        #Checking for correct dimension\n",
    "        dim = self.dim \n",
    "        #self.board = np.zeros((self.dim, self.dim))\n",
    "        board_state = self.getboardstate()\n",
    "        for i in range(dim):\n",
    "            for j in range(dim -1):\n",
    "                print(\"  | \"+convert[board_state[i,j]], end = '')\n",
    "            print(\" | \"+convert[board_state[i,dim-1]]+\" | \")\n",
    "            if i != dim-1:\n",
    "                print('_'*dim*6)\n",
    "                \n",
    "    #Check for win \n",
    "    def checkrow(self, board):     \n",
    "        #Check if row has the same symbol\n",
    "        for i in range(0, board.shape[0]):\n",
    "            if (np.any(board[i,:] != 0)):\n",
    "                if (np.all(board[i,:]==1)):\n",
    "                    return \"1win\"\n",
    "                elif (np.all(board[i,:]==2)):\n",
    "                    return \"2win\"\n",
    "        return \"Nowin\"\n",
    "    def checkcolumn(self, board):\n",
    "        return self.checkrow(np.transpose(board))\n",
    "    def getdiagonal(self, board):\n",
    "        l = board.shape[0]\n",
    "        output = np.zeros((2,l))\n",
    "        for i in range(0, (l)):\n",
    "            output[0,i] = board[i,i]\n",
    "            output[1,i] = board[i, l-1-i]\n",
    "        return output\n",
    "    def checkdiagonal(self, board):\n",
    "        return self.checkrow(self.getdiagonal(board))\n",
    "    def checkwin(self, board):\n",
    "        if self.checkrow(board) != \"Nowin\":\n",
    "            return self.checkrow(board)\n",
    "        if self.checkcolumn(board) != \"Nowin\":\n",
    "            return self.checkcolumn(board)\n",
    "        if self.checkdiagonal(board) != \"Nowin\":\n",
    "            return self.checkdiagonal(board)\n",
    "        return \"Nowin\"\n",
    "    def checkdraw(self, board):\n",
    "        if (np.all(board != 0)) and self.checkwin(board) == \"Nowin\":\n",
    "            return \"Draw\"\n",
    "        else:\n",
    "            return self.checkwin(board)\n",
    "    \n",
    "    #Update board\n",
    "    def updateboard(self, pos, val):\n",
    "        [i,j] = pos\n",
    "        board = self.getboardstate()\n",
    "        board[i,j] = val \n",
    "        self.addboardstate(board)\n"
   ]
  },
  {
   "cell_type": "markdown",
   "metadata": {},
   "source": [
    "# Simple Detour"
   ]
  },
  {
   "cell_type": "markdown",
   "metadata": {},
   "source": [
    "Try to get it to fill an arbitrarily size grid "
   ]
  },
  {
   "cell_type": "code",
   "execution_count": 1523,
   "metadata": {},
   "outputs": [],
   "source": [
    "class SimGame2:\n",
    "    \n",
    "    def __init__(self, dim):\n",
    "        self.board_size = dim\n",
    "        self.initgame()\n",
    "        \n",
    "        return\n",
    "    def initgame(self, random = False):\n",
    "        if random == False:\n",
    "            self.board = np.zeros((self.board_size, self.board_size))\n",
    "        else:\n",
    "            self.board = np.random.randint(0, 2, size=(self.board_size, self.board_size))\n",
    "            #print(self.board)\n",
    "        #self.board[1,1] = 0\n",
    "        #self.board[0,1] = 0\n",
    "\n",
    "    def dispboard(self, board = \"Default\"):\n",
    "        if board == \"Default\":\n",
    "            print(self.board)\n",
    "        else:\n",
    "            print(board)\n",
    "    def fill(self, pos):\n",
    "        #Check if board is filled \n",
    "        if np.all(self.board != 0):\n",
    "            return(10, True)\n",
    "\n",
    "        [x,y] = pos\n",
    "        if self.board[x,y] == 0:\n",
    "            self.board[x,y]= 1\n",
    "            \n",
    "            #Check if game is over \n",
    "            game_status = np.all(self.board != 0)\n",
    "\n",
    "            return (10, game_status )\n",
    "        else:\n",
    "            return (-10, False )\n",
    "    def getstateid(self, board = \"Defined\"):\n",
    "        if board == \"Defined\":\n",
    "            board = self.board\n",
    "        id = 0\n",
    "        for i in range(len(board.flatten())):\n",
    "            id += (2**i)*board.flatten()[i]\n",
    "        return id \n",
    "    \n",
    "    def actidtopos(self, id):\n",
    "        \n",
    "        col = id%(self.board_size)\n",
    "        row = (int((id)/(self.board_size)))\n",
    "        return [row,col]\n",
    "    def actpostoid(self, pos):\n",
    "        [x,y] = pos \n",
    "        return (self.board_size)*x + y\n",
    "    def checkwin(self):\n",
    "        if np.all(self.board == 1):\n",
    "            return True \n",
    "        else:\n",
    "            return False\n",
    "    "
   ]
  },
  {
   "cell_type": "code",
   "execution_count": 1739,
   "metadata": {},
   "outputs": [],
   "source": [
    "class player:\n",
    "    def __init__(self, env):\n",
    "        self.env = env \n",
    "    def genqtable(self):\n",
    "        board_size = self.env.board_size\n",
    "        qtable = np.zeros((2**(board_size**2), (board_size**2)))\n",
    "        self.qtable = (qtable)\n",
    "    def train(self, epsilon = 0.1, gamma = 1, games = 4000):\n",
    "        r = [] \n",
    "        for g in range(games):\n",
    "            game_status = False\n",
    "            game = self.env\n",
    "            game.initgame(random = True)\n",
    "            total_reward = 0 \n",
    "\n",
    "            while game_status == False:\n",
    "                ran = random.random()\n",
    "                if ran > epsilon:\n",
    "                    \n",
    "                    x = random.randint(0, game.board_size-1)\n",
    "                    y = random.randint(0, game.board_size-1)\n",
    "                    pos = [x,y]\n",
    "                else:\n",
    "                    idx = np.argmax(self.qtable[int(game.getstateid())])\n",
    "                    pos = game.actidtopos(idx)\n",
    "                reward, game_status = game.fill(pos)\n",
    "                total_reward += reward \n",
    "\n",
    "                if np.sum(game.board) == game.board_size**2:\n",
    "                    q_next = 0 \n",
    "                else:\n",
    "                    q_next = (self.qtable[int(game.getstateid())].max())\n",
    "\n",
    "                self.qtable[int(game.getstateid()), game.actpostoid(pos)] = reward+ gamma*q_next\n",
    "        \n",
    "                #print(np.abs(start_time-end_time))\n",
    "            r.append(total_reward)\n",
    "            self.rewardlist = r \n",
    "    def check_accuracy(self, safety = False):\n",
    "        dim = self.env.board_size\n",
    "        correct = 0 \n",
    "        wrong = 0\n",
    "        for i in range(0, 2**(dim)**2):\n",
    "            #Generate board\n",
    "            flatarr = (np.array(list((bin(i)[2:])))).astype('int') \n",
    "            pad = np.zeros(int((dim**2)-len(flatarr)))\n",
    "            flatarrpad = (np.concatenate((flatarr, pad)))\n",
    "            arr = np.reshape(flatarrpad, (dim, dim))\n",
    "            if np.all(arr) != 1:\n",
    "                #Check accuracy of next move \n",
    "                [x,y] = self.predict_action(board = arr, safety = safety)\n",
    "\n",
    "                #self.env.dispboard(board = arr)\n",
    "                if arr[x,y] == 0:\n",
    "                    correct+=1\n",
    "                else:\n",
    "                    wrong+= 1\n",
    "            \n",
    "        #Calculate Error Rate \n",
    "        err = correct/(correct+wrong)\n",
    "        return(err)\n",
    "    \n",
    "    def predict_action(self, board = \"Current\", safety = False):\n",
    "        if board == \"Current\":\n",
    "            board = self.env.board\n",
    "        idx = self.env.getstateid(board)\n",
    "        #print(self.qtable)\n",
    "        actid = np.argmax((self.qtable[int(idx)]))\n",
    "        pos = self.env.actidtopos(int(actid))\n",
    "        \n",
    "        #Check if predicted state is occupied \n",
    "        [x,y] = pos \n",
    "        if safety == True:\n",
    "            qrow = self.qtable[int(idx)]\n",
    "            arglist = np.argsort(qrow)\n",
    "            i = 2\n",
    "            while board[x,y] == 1:\n",
    "                actid = arglist[-i]\n",
    "                pos = self.env.actidtopos(int(actid))\n",
    "                [x,y] = pos\n",
    "                i = i+1\n",
    "                if(i == len(qrow)):\n",
    "                    break\n",
    "        return (pos)\n",
    "    \n",
    "    def play1move(self):\n",
    "        pos = self.predict_action()\n",
    "        print(pos)\n",
    "        self.env.fill(pos)\n",
    "        #self.env.dispboard()\n",
    "    def play(self, random = False):\n",
    "        self.env.initgame(random)\n",
    "        steps = 0\n",
    "        while self.env.checkwin() == False:\n",
    "            self.env.dispboard()\n",
    "            #print(self.env.checkwin())\n",
    "            print(\"Hi\")\n",
    "            self.play1move()\n",
    "            steps += 1\n",
    "            if steps > 20:\n",
    "                break\n",
    "        self.env.dispboard()\n",
    "        return steps\n",
    "    \n",
    "    #Hyperparameter Optimization Methods \n",
    "    def gridop(self):\n",
    "        epsilon = np.linspace(0, 1, 10)\n",
    "        acc = []\n",
    "        for i in range(len(epsilon)):\n",
    "            self.train(epsilon = i)\n",
    "            acc.append(self.check_accuracy())\n",
    "        plt.plot(epsilon, acc, 'o')"
   ]
  },
  {
   "cell_type": "code",
   "execution_count": 1740,
   "metadata": {},
   "outputs": [],
   "source": [
    "#4000 games is enough\n",
    "game = SimGame2(3)\n",
    "p1 = player(game)\n",
    "p1.genqtable()\n",
    "p1.train(games = 2000, gamma = 0.2, epsilon = 0.9)\n"
   ]
  },
  {
   "cell_type": "code",
   "execution_count": 1741,
   "metadata": {},
   "outputs": [
    {
     "name": "stderr",
     "output_type": "stream",
     "text": [
      "C:\\Users\\sneha\\Anaconda3\\lib\\site-packages\\ipykernel_launcher.py:64: FutureWarning: elementwise comparison failed; returning scalar instead, but in the future will perform elementwise comparison\n",
      "C:\\Users\\sneha\\Anaconda3\\lib\\site-packages\\ipykernel_launcher.py:38: FutureWarning: elementwise comparison failed; returning scalar instead, but in the future will perform elementwise comparison\n"
     ]
    },
    {
     "data": {
      "text/plain": [
       "1.0"
      ]
     },
     "execution_count": 1741,
     "metadata": {},
     "output_type": "execute_result"
    }
   ],
   "source": [
    "p1.check_accuracy(safety = True)"
   ]
  },
  {
   "cell_type": "code",
   "execution_count": 1742,
   "metadata": {},
   "outputs": [
    {
     "name": "stdout",
     "output_type": "stream",
     "text": [
      "[[1 1 0]\n",
      " [1 0 1]\n",
      " [1 1 0]]\n",
      "Hi\n",
      "[0, 2]\n",
      "[[1 1 1]\n",
      " [1 0 1]\n",
      " [1 1 0]]\n",
      "Hi\n",
      "[1, 1]\n",
      "[[1 1 1]\n",
      " [1 1 1]\n",
      " [1 1 0]]\n",
      "Hi\n",
      "[2, 2]\n",
      "[[1 1 1]\n",
      " [1 1 1]\n",
      " [1 1 1]]\n"
     ]
    },
    {
     "name": "stderr",
     "output_type": "stream",
     "text": [
      "C:\\Users\\sneha\\Anaconda3\\lib\\site-packages\\ipykernel_launcher.py:38: FutureWarning: elementwise comparison failed; returning scalar instead, but in the future will perform elementwise comparison\n"
     ]
    },
    {
     "data": {
      "text/plain": [
       "3"
      ]
     },
     "execution_count": 1742,
     "metadata": {},
     "output_type": "execute_result"
    }
   ],
   "source": [
    "p1.play(random = True)\n"
   ]
  },
  {
   "cell_type": "markdown",
   "metadata": {},
   "source": [
    "# Back to Tic Tac Toe"
   ]
  },
  {
   "cell_type": "code",
   "execution_count": null,
   "metadata": {},
   "outputs": [],
   "source": []
  }
 ],
 "metadata": {
  "kernelspec": {
   "display_name": "Python 3",
   "language": "python",
   "name": "python3"
  },
  "language_info": {
   "codemirror_mode": {
    "name": "ipython",
    "version": 3
   },
   "file_extension": ".py",
   "mimetype": "text/x-python",
   "name": "python",
   "nbconvert_exporter": "python",
   "pygments_lexer": "ipython3",
   "version": "3.7.4"
  }
 },
 "nbformat": 4,
 "nbformat_minor": 2
}
